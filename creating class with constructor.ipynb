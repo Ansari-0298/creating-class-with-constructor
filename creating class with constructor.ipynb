{
 "cells": [
  {
   "cell_type": "code",
   "execution_count": 1,
   "id": "86d9a650",
   "metadata": {},
   "outputs": [],
   "source": [
    "#creating class with constructor"
   ]
  },
  {
   "cell_type": "code",
   "execution_count": 26,
   "id": "d66e5b8b",
   "metadata": {},
   "outputs": [],
   "source": [
    "class employee():\n",
    "    def __init__ (self,name,age,salary,gender):\n",
    "        self.name=name\n",
    "        self.age=age\n",
    "        self.salary=salary\n",
    "        self.gender=gender\n",
    "        \n",
    "    def show_employee_details(self):\n",
    "        print(\"name of employee\",self.name)\n",
    "        print(\"age of employee\",self.age)\n",
    "        print(\"salary of employee\",self.salary)\n",
    "        print(\"gender of employee\",self.gender)"
   ]
  },
  {
   "cell_type": "code",
   "execution_count": 29,
   "id": "23545787",
   "metadata": {},
   "outputs": [],
   "source": [
    "e1= employee('rahul',28,35000,'male')"
   ]
  },
  {
   "cell_type": "code",
   "execution_count": 28,
   "id": "e78e9706",
   "metadata": {},
   "outputs": [
    {
     "name": "stdout",
     "output_type": "stream",
     "text": [
      "name of employee rahul\n",
      "age of employee 28\n",
      "salary of employee 35000\n",
      "gender of employee male\n"
     ]
    }
   ],
   "source": [
    "e1.show_employee_details()"
   ]
  },
  {
   "cell_type": "code",
   "execution_count": 43,
   "id": "a1fa5981",
   "metadata": {},
   "outputs": [],
   "source": [
    "class student():\n",
    "    def __init__ (self,name,age,gender,fees):\n",
    "        self.name=name\n",
    "        self.age=age\n",
    "        self.gender=gender\n",
    "        self.fees=fees\n",
    "        \n",
    "    def show_student_details(self):\n",
    "        print(\"name of the student\",self.name)\n",
    "        print(\"age of the students\",self.age)\n",
    "        print(\"gender of the student\",self,gender)\n",
    "        print(\"fees of the student\",self.fees)"
   ]
  },
  {
   "cell_type": "code",
   "execution_count": 2,
   "id": "acd1093b",
   "metadata": {},
   "outputs": [
    {
     "ename": "NameError",
     "evalue": "name 'student' is not defined",
     "output_type": "error",
     "traceback": [
      "\u001b[1;31m---------------------------------------------------------------------------\u001b[0m",
      "\u001b[1;31mNameError\u001b[0m                                 Traceback (most recent call last)",
      "\u001b[1;32m<ipython-input-2-bbc60ed81a6f>\u001b[0m in \u001b[0;36m<module>\u001b[1;34m\u001b[0m\n\u001b[1;32m----> 1\u001b[1;33m \u001b[0ms1\u001b[0m\u001b[1;33m=\u001b[0m\u001b[0mstudent\u001b[0m\u001b[1;33m(\u001b[0m\u001b[1;34m\"martha\"\u001b[0m\u001b[1;33m,\u001b[0m\u001b[1;36m32\u001b[0m\u001b[1;33m,\u001b[0m\u001b[1;34m\"female\"\u001b[0m\u001b[1;33m,\u001b[0m\u001b[1;36m30000\u001b[0m\u001b[1;33m)\u001b[0m\u001b[1;33m\u001b[0m\u001b[1;33m\u001b[0m\u001b[0m\n\u001b[0m",
      "\u001b[1;31mNameError\u001b[0m: name 'student' is not defined"
     ]
    }
   ],
   "source": [
    "s1=student(\"martha\",32,\"female\",30000)"
   ]
  },
  {
   "cell_type": "markdown",
   "id": "7c1a4a7d",
   "metadata": {},
   "source": []
  },
  {
   "cell_type": "code",
   "execution_count": 3,
   "id": "45c5d092",
   "metadata": {},
   "outputs": [
    {
     "ename": "NameError",
     "evalue": "name 's1' is not defined",
     "output_type": "error",
     "traceback": [
      "\u001b[1;31m---------------------------------------------------------------------------\u001b[0m",
      "\u001b[1;31mNameError\u001b[0m                                 Traceback (most recent call last)",
      "\u001b[1;32m<ipython-input-3-0fc2295189e0>\u001b[0m in \u001b[0;36m<module>\u001b[1;34m\u001b[0m\n\u001b[1;32m----> 1\u001b[1;33m \u001b[0ms1\u001b[0m\u001b[1;33m.\u001b[0m\u001b[0mshow_student_details\u001b[0m\u001b[1;33m(\u001b[0m\u001b[1;33m)\u001b[0m\u001b[1;33m\u001b[0m\u001b[1;33m\u001b[0m\u001b[0m\n\u001b[0m",
      "\u001b[1;31mNameError\u001b[0m: name 's1' is not defined"
     ]
    }
   ],
   "source": [
    "s1.show_student_details()"
   ]
  },
  {
   "cell_type": "code",
   "execution_count": 4,
   "id": "f994a303",
   "metadata": {},
   "outputs": [],
   "source": [
    "class animal():\n",
    "    def __init__(self,name,breed,color,house):\n",
    "        self.name=name\n",
    "        self.breed=breed\n",
    "        self.color=color\n",
    "        self.house=house\n",
    "    \n",
    "    def show_animal_details(self):\n",
    "        print(\"name of the animal is\",self.name)\n",
    "        print(\"breed of the animal\",self.breed)\n",
    "        print(\"color of the animal\",self.color)\n",
    "        print(\"house of the animal\",self.house)"
   ]
  },
  {
   "cell_type": "code",
   "execution_count": 5,
   "id": "97fcc266",
   "metadata": {},
   "outputs": [],
   "source": [
    "a1=animal(\"rolex\",\"labradol\",\"brown\",\"hut\")"
   ]
  },
  {
   "cell_type": "code",
   "execution_count": 6,
   "id": "d9ae1e9a",
   "metadata": {},
   "outputs": [
    {
     "name": "stdout",
     "output_type": "stream",
     "text": [
      "name of the animal is rolex\n",
      "breed of the animal labradol\n",
      "color of the animal brown\n",
      "house of the animal hut\n"
     ]
    }
   ],
   "source": [
    "a1.show_animal_details()"
   ]
  },
  {
   "cell_type": "code",
   "execution_count": 5,
   "id": "f07d1b26",
   "metadata": {},
   "outputs": [],
   "source": [
    "class Hotel:\n",
    "    def __init__(self,ibis,oberoi,taj,jwmarriot,lemontree):\n",
    "        self.ibis=ibis\n",
    "        self.oberoi=oberoi\n",
    "        self.taj=taj\n",
    "        self.jwmarriot=jwmarriot\n",
    "        self.lemontree=lemontree\n",
    "        \n",
    "    def show_hotel_details(self):\n",
    "        print(\"ibis hotel is in\",self.ibis)\n",
    "        print(\"oberoi hotel is in\",self.oberoi)\n",
    "        print(\"taj hotel is in\",self.taj)\n",
    "        print(\"jwmarriot is in\",self.jwmarriot)\n",
    "        print(\"lemontree is in\",self.lemontree)"
   ]
  },
  {
   "cell_type": "code",
   "execution_count": 8,
   "id": "11118aec",
   "metadata": {},
   "outputs": [],
   "source": [
    "h1=Hotel(\"vikhroli\",\"nariman point\",\"mahalaxmi\",\"juhu\",\"Andheri\")"
   ]
  },
  {
   "cell_type": "code",
   "execution_count": 9,
   "id": "15ca7731",
   "metadata": {},
   "outputs": [
    {
     "name": "stdout",
     "output_type": "stream",
     "text": [
      "ibis hotel is in vikhroli\n",
      "oberoi hotel is in nariman point\n",
      "taj hotel is in mahalaxmi\n",
      "jwmarriot is in juhu\n",
      "lemontree is in Andheri\n"
     ]
    }
   ],
   "source": [
    "h1.show_hotel_details()"
   ]
  },
  {
   "cell_type": "code",
   "execution_count": 1,
   "id": "dd6c8a7f",
   "metadata": {},
   "outputs": [
    {
     "name": "stdout",
     "output_type": "stream",
     "text": [
      "b is greater than a\n"
     ]
    }
   ],
   "source": [
    "a=21\n",
    "b=23\n",
    "if a>b:\n",
    "    print(\"a is greater than b\")\n",
    "else:\n",
    "    print(\"b is greater than a\")"
   ]
  },
  {
   "cell_type": "code",
   "execution_count": 21,
   "id": "65b26b55",
   "metadata": {},
   "outputs": [],
   "source": [
    "class laptop:\n",
    "    def __init__(self,company,color,ram,processor,price,os):\n",
    "        self.company=company\n",
    "        self.color=color\n",
    "        self.ram=ram\n",
    "        self.processor=processor\n",
    "        self.price=price\n",
    "        self.os=os\n",
    "        \n",
    "    def show_laptop_details(self):\n",
    "        print(\"company of the laptop is\",self.company)\n",
    "        print(\"color of the laptop is\",self.color)\n",
    "        print(\"ram of the laptop is\",self.ram)\n",
    "        print(\"processor of the laptop is\",self.processor)\n",
    "        print(\"price of the laptop is\",self.price)\n",
    "        print(\"os of the laptop is\",self.os)"
   ]
  },
  {
   "cell_type": "code",
   "execution_count": 1,
   "id": "272897b1",
   "metadata": {},
   "outputs": [
    {
     "ename": "NameError",
     "evalue": "name 'laptop' is not defined",
     "output_type": "error",
     "traceback": [
      "\u001b[1;31m---------------------------------------------------------------------------\u001b[0m",
      "\u001b[1;31mNameError\u001b[0m                                 Traceback (most recent call last)",
      "\u001b[1;32m<ipython-input-1-c5c78da672c0>\u001b[0m in \u001b[0;36m<module>\u001b[1;34m\u001b[0m\n\u001b[1;32m----> 1\u001b[1;33m \u001b[0ml1\u001b[0m\u001b[1;33m=\u001b[0m\u001b[0mlaptop\u001b[0m\u001b[1;33m(\u001b[0m\u001b[1;34m\"Asus\"\u001b[0m\u001b[1;33m,\u001b[0m\u001b[1;34m\"met black\"\u001b[0m\u001b[1;33m,\u001b[0m\u001b[1;36m16\u001b[0m\u001b[1;33m,\u001b[0m\u001b[1;34m\"twelth generation\"\u001b[0m\u001b[1;33m,\u001b[0m\u001b[1;36m65000\u001b[0m\u001b[1;33m,\u001b[0m\u001b[1;34m\"windows\"\u001b[0m\u001b[1;33m)\u001b[0m\u001b[1;33m\u001b[0m\u001b[1;33m\u001b[0m\u001b[0m\n\u001b[0m",
      "\u001b[1;31mNameError\u001b[0m: name 'laptop' is not defined"
     ]
    }
   ],
   "source": [
    "l1=laptop(\"Asus\",\"met black\",16,\"twelth generation\",65000,\"windows\")"
   ]
  },
  {
   "cell_type": "code",
   "execution_count": null,
   "id": "976191df",
   "metadata": {},
   "outputs": [],
   "source": [
    "class employee():\n",
    "    def "
   ]
  },
  {
   "cell_type": "code",
   "execution_count": null,
   "id": "7f277432",
   "metadata": {},
   "outputs": [],
   "source": []
  },
  {
   "cell_type": "code",
   "execution_count": null,
   "id": "589f5883",
   "metadata": {},
   "outputs": [],
   "source": []
  }
 ],
 "metadata": {
  "kernelspec": {
   "display_name": "Python 3",
   "language": "python",
   "name": "python3"
  },
  "language_info": {
   "codemirror_mode": {
    "name": "ipython",
    "version": 3
   },
   "file_extension": ".py",
   "mimetype": "text/x-python",
   "name": "python",
   "nbconvert_exporter": "python",
   "pygments_lexer": "ipython3",
   "version": "3.8.8"
  },
  "vscode": {
   "interpreter": {
    "hash": "5179d32cf6ec497baf3f8a3ef987cc77c5d2dc691fdde20a56316522f61a7323"
   }
  }
 },
 "nbformat": 4,
 "nbformat_minor": 5
}
